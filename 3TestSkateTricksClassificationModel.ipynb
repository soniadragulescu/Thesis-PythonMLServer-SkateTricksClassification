{
 "cells": [
  {
   "cell_type": "code",
   "execution_count": 16,
   "metadata": {
    "collapsed": true,
    "pycharm": {
     "is_executing": false
    }
   },
   "outputs": [],
   "source": [
    "#import the required libraries\n",
    "\n",
    "from keras.models import Sequential\n",
    "from keras.layers import Dense, Dropout\n",
    "from keras.preprocessing import image\n",
    "import numpy as np\n",
    "import pandas as pd\n",
    "from tqdm import tqdm\n",
    "from keras.applications.vgg16 import VGG16\n",
    "import cv2\n",
    "import math\n",
    "import os\n",
    "from glob import glob\n",
    "from scipy import stats as s\n",
    "\n",
    "#Next, we will define the model architecture which will be similar to what we had while training the model:\n",
    "base_model = VGG16(weights='imagenet', include_top=False)"
   ]
  },
  {
   "cell_type": "code",
   "execution_count": 17,
   "outputs": [],
   "source": [
    "#This is the pre-trained model and we will fine-tune it next:\n",
    "\n",
    "#defining the model architecture\n",
    "model = Sequential()\n",
    "model.add(Dense(1024, activation='relu', input_shape=(25088,)))\n",
    "model.add(Dropout(0.5))\n",
    "model.add(Dense(512, activation='relu'))\n",
    "model.add(Dropout(0.5))\n",
    "model.add(Dense(256, activation='relu'))\n",
    "model.add(Dropout(0.5))\n",
    "model.add(Dense(128, activation='relu'))\n",
    "model.add(Dropout(0.5))\n",
    "model.add(Dense(3, activation='softmax'))"
   ],
   "metadata": {
    "collapsed": false,
    "pycharm": {
     "name": "#%%\n",
     "is_executing": false
    }
   }
  },
  {
   "cell_type": "code",
   "execution_count": 18,
   "outputs": [],
   "source": [
    "#Now, as we have defined the architecture,\n",
    "# we will now load the trained weights which we stored as weights_skate.hdf5:\n",
    "\n",
    "# loading the trained weights\n",
    "model.load_weights(\"weights_skate.hdf5\")"
   ],
   "metadata": {
    "collapsed": false,
    "pycharm": {
     "name": "#%%\n",
     "is_executing": false
    }
   }
  },
  {
   "cell_type": "code",
   "execution_count": 19,
   "outputs": [],
   "source": [
    "#Compile the model as well\n",
    "\n",
    "# compiling the model\n",
    "#Make sure that the loss function, optimizer, and the metrics are the same as we used while training the model.\n",
    "model.compile(loss='categorical_crossentropy',optimizer='Adam',metrics=['accuracy'])\n",
    "# tf_model = tf.keras.models.Model(model)\n",
    "# tf.saved_model.save(tf_model, \"saved_model_keras_dir\")\n",
    "# # Convert the model.\n",
    "# converter = tf.lite.TFLiteConverter.from_keras_model(tf_model)\n",
    "# tflite_model = converter.convert()\n",
    "# \n",
    "# # Save the model.\n",
    "# with open('model.tflite', 'wb') as f:\n",
    "#   f.write(tflite_model)"
   ],
   "metadata": {
    "collapsed": false,
    "pycharm": {
     "name": "#%%\n",
     "is_executing": false
    }
   }
  },
  {
   "cell_type": "code",
   "execution_count": 20,
   "outputs": [
    {
     "data": {
      "text/plain": "           video_name\n0  Fails/Fail_070.mp4\n1  Fails/Fail_071.mp4\n2  Fails/Fail_072.mp4\n3  Fails/Fail_073.mp4\n4  Fails/Fail_074.mp4",
      "text/html": "<div>\n<style scoped>\n    .dataframe tbody tr th:only-of-type {\n        vertical-align: middle;\n    }\n\n    .dataframe tbody tr th {\n        vertical-align: top;\n    }\n\n    .dataframe thead th {\n        text-align: right;\n    }\n</style>\n<table border=\"1\" class=\"dataframe\">\n  <thead>\n    <tr style=\"text-align: right;\">\n      <th></th>\n      <th>video_name</th>\n    </tr>\n  </thead>\n  <tbody>\n    <tr>\n      <th>0</th>\n      <td>Fails/Fail_070.mp4</td>\n    </tr>\n    <tr>\n      <th>1</th>\n      <td>Fails/Fail_071.mp4</td>\n    </tr>\n    <tr>\n      <th>2</th>\n      <td>Fails/Fail_072.mp4</td>\n    </tr>\n    <tr>\n      <th>3</th>\n      <td>Fails/Fail_073.mp4</td>\n    </tr>\n    <tr>\n      <th>4</th>\n      <td>Fails/Fail_074.mp4</td>\n    </tr>\n  </tbody>\n</table>\n</div>"
     },
     "metadata": {},
     "output_type": "execute_result",
     "execution_count": 20
    }
   ],
   "source": [
    "# there is a file named “testlist_skate.txt” which contains the list of test videos. We will make use of that to create the test data:\n",
    "\n",
    "#Creating the test data\n",
    "# getting the test list\n",
    "f = open(\"datas/testlist_skate.txt\", \"r\")\n",
    "temp = f.read()\n",
    "videos = temp.split('\\n')\n",
    "\n",
    "# creating the dataframe\n",
    "test = pd.DataFrame()\n",
    "test['video_name'] = videos\n",
    "test = test[:-1]\n",
    "test_videos = test['video_name']\n",
    "test.head()"
   ],
   "metadata": {
    "collapsed": false,
    "pycharm": {
     "name": "#%%\n",
     "is_executing": false
    }
   }
  },
  {
   "cell_type": "code",
   "execution_count": 21,
   "outputs": [],
   "source": [
    "#We now have the list of all the videos stored in a dataframe.\n",
    "# To map the predicted categories with the actual categories,\n",
    "# we will use the train_new.csv file:\n",
    "\n",
    "# creating the tags\n",
    "train = pd.read_csv('datas/train_skate.csv')\n",
    "y = train['class']\n",
    "y = pd.get_dummies(y)"
   ],
   "metadata": {
    "collapsed": false,
    "pycharm": {
     "name": "#%%\n",
     "is_executing": false
    }
   }
  },
  {
   "cell_type": "code",
   "execution_count": 31,
   "outputs": [
    {
     "name": "stderr",
     "text": [
      "100%|██████████| 60/60 [01:49<00:00,  1.82s/it]\n"
     ],
     "output_type": "stream"
    }
   ],
   "source": [
    "#Generating predictions for the test videos\n",
    "\n",
    "#1. First, we will create two empty lists – one to store the predictions and the other to store the actual tags\n",
    "prediction_inputs = []\n",
    "predict = []\n",
    "actual = []\n",
    "\n",
    "#2. Then, we will take each video from the test set,\n",
    "# extract frames for this video and store it in a folder (create a folder named temp in the current directory to store the frames).\n",
    "# We will remove all the other files from this folder at each iteration\n",
    "\n",
    "#3. Next, we will read all the frames from the temp folder,\n",
    "#extract features for these frames using the pre-trained model,\n",
    "# predict tags, and then take the mode to assign a tag for that particular video and append it in the list\n",
    "\n",
    "#4. We will append actual tags for each video in the second list\n",
    "\n",
    "# for loop to extract frames from each test video\n",
    "for i in tqdm(range(test_videos.shape[0])):\n",
    "    count = 0\n",
    "    videoFile = test_videos[i]\n",
    "    #print(videoFile)\n",
    "    cap = cv2.VideoCapture('datas/Videos/'+videoFile)   # capturing the video from the given path\n",
    "    frameRate = cap.get(5) #frame rate\n",
    "    x=1\n",
    "    # removing all other files from the temp folder\n",
    "    files = glob('datas/temp/*')\n",
    "    for f in files:\n",
    "        os.remove(f)\n",
    "    while cap.isOpened():\n",
    "        frameId = cap.get(1) #current frame number\n",
    "        ret, frame = cap.read()\n",
    "        if not ret :\n",
    "            break\n",
    "        if frameId % math.floor(frameRate) == 0:\n",
    "            # storing the frames of this particular video in temp folder\n",
    "            filename ='datas/temp/' + \"_frame\" + str(count) + \".jpg\"\n",
    "            count+=1\n",
    "            cv2.imwrite(filename, frame)\n",
    "    cap.release()\n",
    "\n",
    "    # reading all the frames from temp folder\n",
    "    images = glob(\"datas/temp/*.jpg\")\n",
    "\n",
    "    prediction_images = []\n",
    "    for i in range(len(images)):\n",
    "        img = image.load_img(images[i], target_size=(224,224,3))\n",
    "        img = image.img_to_array(img)\n",
    "        img = img/255\n",
    "        prediction_images.append(img)\n",
    "\n",
    "    # converting all the frames for a test video into numpy array\n",
    "    prediction_images = np.array(prediction_images)\n",
    "    # extracting features using pre-trained model\n",
    "    prediction_images = base_model.predict(prediction_images)\n",
    "    # converting features in one dimensional array\n",
    "    prediction_images = prediction_images.reshape(prediction_images.shape[0], 7*7*512)\n",
    "    # predicting tags for each array\n",
    "    prediction_inputs.append(prediction_images)\n",
    "    prediction = model.predict_classes(prediction_images)\n",
    "    # appending the mode of predictions in predict list to assign the tag to the video\n",
    "    predict.append(y.columns.values[s.mode(prediction)[0][0]])\n",
    "    # appending the actual tag of the video\n",
    "    actual.append(videoFile.split('/')[1].split('_')[0])"
   ],
   "metadata": {
    "collapsed": false,
    "pycharm": {
     "name": "#%%\n",
     "is_executing": false
    }
   }
  },
  {
   "cell_type": "code",
   "execution_count": 40,
   "outputs": [
    {
     "name": "stdout",
     "text": [
      "96.66666666666667\n"
     ],
     "output_type": "stream"
    },
    {
     "data": {
      "text/plain": "<Figure size 432x288 with 2 Axes>",
      "image/png": "[encoded data removed]"
     },
     "metadata": {},
     "output_type": "display_data"
    }
   ],
   "source": [
    "#Once we have the predictions,\n",
    "# we will calculate the performance of the model.\n",
    "LABELS = ['Fail', 'Slide', 'Ollie']\n",
    "# checking the accuracy of the predicted tags\n",
    "from sklearn.metrics import accuracy_score, confusion_matrix\n",
    "print(accuracy_score(predict, actual)*100)\n",
    "\n",
    "predicted_categories = [LABELS.index(x) for x in predict]\n",
    "true_categories = [LABELS.index(x) for x in actual]\n",
    "conf_matrix = confusion_matrix(predicted_categories, true_categories)\n",
    "import seaborn as sn\n",
    "import pandas as pd\n",
    "import matplotlib.pyplot as plt\n",
    "df_cm = pd.DataFrame(conf_matrix, LABELS, LABELS)\n",
    "sn.set(font_scale=1.4) # for label size\n",
    "sn.heatmap(df_cm, annot=True, annot_kws={\"size\": 16}) # font size\n",
    "\n",
    "plt.show()\n"
   ],
   "metadata": {
    "collapsed": false,
    "pycharm": {
     "name": "#%%\n",
     "is_executing": false
    }
   }
  }
 ],
 "metadata": {
  "kernelspec": {
   "display_name": "Python 3",
   "language": "python",
   "name": "python3"
  },
  "language_info": {
   "codemirror_mode": {
    "name": "ipython",
    "version": 2
   },
   "file_extension": ".py",
   "mimetype": "text/x-python",
   "name": "python",
   "nbconvert_exporter": "python",
   "pygments_lexer": "ipython2",
   "version": "2.7.6"
  },
  "pycharm": {
   "stem_cell": {
    "cell_type": "raw",
    "source": [],
    "metadata": {
     "collapsed": false
    }
   }
  }
 },
 "nbformat": 4,
 "nbformat_minor": 0
}