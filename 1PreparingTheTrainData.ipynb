{
 "cells": [
  {
   "cell_type": "code",
   "execution_count": 2,
   "metadata": {
    "collapsed": true
   },
   "outputs": [
    {
     "data": {
      "text/plain": "           video_name\n0  Fails/Fail_000.mp4\n1  Fails/Fail_001.mp4\n2  Fails/Fail_002.mp4\n3  Fails/Fail_003.mp4\n4  Fails/Fail_004.mp4",
      "text/html": "<div>\n<style scoped>\n    .dataframe tbody tr th:only-of-type {\n        vertical-align: middle;\n    }\n\n    .dataframe tbody tr th {\n        vertical-align: top;\n    }\n\n    .dataframe thead th {\n        text-align: right;\n    }\n</style>\n<table border=\"1\" class=\"dataframe\">\n  <thead>\n    <tr style=\"text-align: right;\">\n      <th></th>\n      <th>video_name</th>\n    </tr>\n  </thead>\n  <tbody>\n    <tr>\n      <th>0</th>\n      <td>Fails/Fail_000.mp4</td>\n    </tr>\n    <tr>\n      <th>1</th>\n      <td>Fails/Fail_001.mp4</td>\n    </tr>\n    <tr>\n      <th>2</th>\n      <td>Fails/Fail_002.mp4</td>\n    </tr>\n    <tr>\n      <th>3</th>\n      <td>Fails/Fail_003.mp4</td>\n    </tr>\n    <tr>\n      <th>4</th>\n      <td>Fails/Fail_004.mp4</td>\n    </tr>\n  </tbody>\n</table>\n</div>"
     },
     "execution_count": 2,
     "metadata": {},
     "output_type": "execute_result"
    }
   ],
   "source": [
    "# first import the required libraries\n",
    "import cv2  # for capturing videos\n",
    "import math  # for mathematical operations\n",
    "import pandas as pd\n",
    "from glob import glob\n",
    "from tqdm import tqdm\n",
    "\n",
    "# We will now store the name of videos in a dataframe:\n",
    "# This is how the names of videos are given in the .txt file.\n",
    "# It is not properly aligned and we will need to preprocess it.\n",
    "\n",
    "# open the .txt file which have names of training videos\n",
    "f = open(\"datas/trainlist_skate.txt\", \"r\")\n",
    "temp = f.read()\n",
    "videos = temp.split('\\n')\n",
    "\n",
    "# creating a dataframe having video names\n",
    "train = pd.DataFrame()\n",
    "train['video_name'] = videos\n",
    "train = train[:-1]\n",
    "train.head()"
   ]
  },
  {
   "cell_type": "code",
   "execution_count": 3,
   "outputs": [
    {
     "data": {
      "text/plain": "           video_name\n0  Fails/Fail_070.mp4\n1  Fails/Fail_071.mp4\n2  Fails/Fail_072.mp4\n3  Fails/Fail_073.mp4\n4  Fails/Fail_074.mp4",
      "text/html": "<div>\n<style scoped>\n    .dataframe tbody tr th:only-of-type {\n        vertical-align: middle;\n    }\n\n    .dataframe tbody tr th {\n        vertical-align: top;\n    }\n\n    .dataframe thead th {\n        text-align: right;\n    }\n</style>\n<table border=\"1\" class=\"dataframe\">\n  <thead>\n    <tr style=\"text-align: right;\">\n      <th></th>\n      <th>video_name</th>\n    </tr>\n  </thead>\n  <tbody>\n    <tr>\n      <th>0</th>\n      <td>Fails/Fail_070.mp4</td>\n    </tr>\n    <tr>\n      <th>1</th>\n      <td>Fails/Fail_071.mp4</td>\n    </tr>\n    <tr>\n      <th>2</th>\n      <td>Fails/Fail_072.mp4</td>\n    </tr>\n    <tr>\n      <th>3</th>\n      <td>Fails/Fail_073.mp4</td>\n    </tr>\n    <tr>\n      <th>4</th>\n      <td>Fails/Fail_074.mp4</td>\n    </tr>\n  </tbody>\n</table>\n</div>"
     },
     "execution_count": 3,
     "metadata": {},
     "output_type": "execute_result"
    }
   ],
   "source": [
    "# Before that, let’s create a similar dataframe for test videos as well:\n",
    "\n",
    "# open the .txt file which have names of test videos\n",
    "f = open(\"datas/testlist_skate.txt\", \"r\")\n",
    "temp = f.read()\n",
    "videos = temp.split('\\n')\n",
    "\n",
    "# creating a dataframe having video names\n",
    "test = pd.DataFrame()\n",
    "test['video_name'] = videos\n",
    "test = test[:-1]\n",
    "test.head()"
   ],
   "metadata": {
    "collapsed": false,
    "pycharm": {
     "name": "#%%\n"
    }
   }
  },
  {
   "cell_type": "code",
   "execution_count": 4,
   "outputs": [],
   "source": [
    "# Next, we will add the tag of each video (for both training and test sets).\n",
    "# Did you notice that the entire part before the ‘/’ in the video name represents the tag of the video?\n",
    "# Hence, we will split the entire string on ‘/’ and select the tag for all the videos:\n",
    "\n",
    "\n",
    "# creating tags for training videos\n",
    "train_video_tag = []\n",
    "for i in range(train.shape[0]):\n",
    "    train_video_tag.append(train['video_name'][i].split('/')[0])\n",
    "\n",
    "train['tag'] = train_video_tag\n",
    "\n",
    "# creating tags for test videos\n",
    "test_video_tag = []\n",
    "for i in range(test.shape[0]):\n",
    "    test_video_tag.append(test['video_name'][i].split('/')[0])\n",
    "\n",
    "test['tag'] = test_video_tag"
   ],
   "metadata": {
    "collapsed": false,
    "pycharm": {
     "name": "#%%\n"
    }
   }
  },
  {
   "cell_type": "code",
   "execution_count": 5,
   "outputs": [
    {
     "name": "stderr",
     "output_type": "stream",
     "text": [
      "100%|██████████| 229/229 [00:42<00:00,  5.34it/s]\n"
     ]
    }
   ],
   "source": [
    "# Now, we will extract the frames from the training videos which will be used to train the model.\n",
    "# I will be storing all the frames in a folder named train_1.\n",
    "# storing the frames from training videos\n",
    "for i in tqdm(range(train.shape[0])):\n",
    "    count = 0\n",
    "    videoFile = train['video_name'][i]\n",
    "    cap = cv2.VideoCapture('datas/Videos/' + videoFile)  # capturing the video from the given path\n",
    "    frameRate = cap.get(5)  # frame rate\n",
    "\n",
    "    while cap.isOpened():\n",
    "        frameId = cap.get(1)  # current frame number\n",
    "        ret, frame = cap.read()\n",
    "        if not ret:\n",
    "            break\n",
    "        if frameId % math.floor(frameRate) == 0:\n",
    "            # storing the frames in a new folder named train_1\n",
    "            filename ='datas/train_skate/'+videoFile.split('/')[1].split(' ')[0] + \"_frame\" + str(count) + \".jpg\"\n",
    "            count = count + 1\n",
    "            cv2.imwrite(filename, frame)\n",
    "    cap.release()"
   ],
   "metadata": {
    "collapsed": false,
    "pycharm": {
     "name": "#%%\n"
    }
   }
  },
  {
   "cell_type": "code",
   "execution_count": 7,
   "outputs": [
    {
     "name": "stderr",
     "output_type": "stream",
     "text": [
      "100%|██████████| 500/500 [00:00<00:00, 250615.68it/s]\n"
     ]
    }
   ],
   "source": [
    "# Once the frames are extracted,\n",
    "# we will save the name of these frames with their corresponding tag in a .csv file.\n",
    "# Creating this file will help us to read the frames which we will see in the next section.\n",
    "\n",
    "# getting the names of all the images\n",
    "images = glob(\"datas/train_frames/*.jpg\")\n",
    "train_image = []\n",
    "train_class = []\n",
    "for i in tqdm(range(len(images))):\n",
    "    # creating the image name\n",
    "    train_image.append(images[i].split('\\\\')[-1])\n",
    "    # creating the class of image\n",
    "    train_class.append(images[i].split('\\\\')[-1].split('_')[0])\n",
    "\n",
    "# storing the images and their class in a dataframe\n",
    "train_data = pd.DataFrame()\n",
    "train_data['image'] = train_image\n",
    "train_data['class'] = train_class\n",
    "\n",
    "# converting the dataframe into csv file\n",
    "train_data.to_csv('datas/train_skate.csv', header=True, index=False)"
   ],
   "metadata": {
    "collapsed": false,
    "pycharm": {
     "name": "#%%\n"
    }
   }
  }
 ],
 "metadata": {
  "kernelspec": {
   "display_name": "Python 3",
   "language": "python",
   "name": "python3"
  },
  "language_info": {
   "codemirror_mode": {
    "name": "ipython",
    "version": 2
   },
   "file_extension": ".py",
   "mimetype": "text/x-python",
   "name": "python",
   "nbconvert_exporter": "python",
   "pygments_lexer": "ipython2",
   "version": "2.7.6"
  }
 },
 "nbformat": 4,
 "nbformat_minor": 0
}